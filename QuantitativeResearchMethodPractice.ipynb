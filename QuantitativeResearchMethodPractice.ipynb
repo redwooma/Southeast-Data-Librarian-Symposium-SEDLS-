{
 "cells": [
  {
   "cell_type": "markdown",
   "id": "8b0adbd5",
   "metadata": {},
   "source": [
    "# Quantitative Method in `Python`\n",
    "## Malik"
   ]
  },
  {
   "cell_type": "markdown",
   "id": "e6461dfd",
   "metadata": {},
   "source": [
    "# Overview\n",
    "\n",
    "#### Variables\n",
    "#### Mathematical and comparison operators\n",
    "#### Loops\n",
    "#### Libraries\n",
    "#### T-Tests\n",
    "#### Linear Regression\n",
    "#### Graphs"
   ]
  },
  {
   "cell_type": "markdown",
   "id": "0e1715f1",
   "metadata": {},
   "source": [
    "Create variables and assigning values to a variables"
   ]
  },
  {
   "cell_type": "code",
   "execution_count": null,
   "id": "924ddd1b",
   "metadata": {},
   "outputs": [],
   "source": [
    "# variables can store strings, integers, float, and boolean values\n",
    "\n",
    "# print your country, your age, and your gpa\n",
    "country = \n",
    "age = \n",
    "grade = \n",
    "\n",
    "# comparison between two values\n",
    "bool = \n",
    "\n",
    "print(country)\n",
    "print(age)\n",
    "print(grade)\n",
    "print(bool)"
   ]
  },
  {
   "cell_type": "code",
   "execution_count": null,
   "id": "d367059b",
   "metadata": {},
   "outputs": [],
   "source": [
    "# common mathematical operators\n",
    "\n",
    "add = 6 + 7\n",
    "subtract = 79 - 18\n",
    "multiple = 13*6\n",
    "\n",
    "# Division float (decimal numbers)\n",
    "divide = 13/2\n",
    "\n",
    "# Division integer (whole numbers)\n",
    "Divide = 13//2\n",
    "\n",
    "# print addition, subtraction, multiplication, and division\n",
    "print(add)\n",
    "print(subtract)\n",
    "print(multiple)\n",
    "print(divide)\n",
    "print(Divide)\n",
    "\n",
    "# python follows PEMDAS mathematical expressions\n",
    "PEMDAS = ((3*4)+5)**4-1\n",
    "\n",
    "print(PEMDAS)"
   ]
  },
  {
   "cell_type": "code",
   "execution_count": null,
   "id": "49dfbade",
   "metadata": {},
   "outputs": [],
   "source": [
    "# comparison operator equivalent\n",
    "a = 2\n",
    "b = 3\n",
    "\n",
    "c = \n",
    "\n",
    "print(\"a is equal to b:\", c)"
   ]
  },
  {
   "cell_type": "code",
   "execution_count": null,
   "id": "e9bbb49b",
   "metadata": {},
   "outputs": [],
   "source": [
    "# comparison operator not equivalent \n",
    "a = 2\n",
    "b = 3\n",
    "\n",
    "c = \n",
    "\n",
    "print(\"a is not equal to b:\", c)"
   ]
  },
  {
   "cell_type": "code",
   "execution_count": null,
   "id": "2e104507",
   "metadata": {},
   "outputs": [],
   "source": [
    "# comparison operator greater than\n",
    "a = 2\n",
    "b = 3\n",
    "\n",
    "c = \n",
    "\n",
    "print(\"a is greater than b:\", c)"
   ]
  },
  {
   "cell_type": "code",
   "execution_count": null,
   "id": "ac7921e2",
   "metadata": {},
   "outputs": [],
   "source": [
    "# comparison operator less than\n",
    "a = 2\n",
    "b = 3\n",
    "\n",
    "c = \n",
    "\n",
    "print(\"a is less than b:\", c)"
   ]
  },
  {
   "cell_type": "code",
   "execution_count": null,
   "id": "59ae79c0",
   "metadata": {},
   "outputs": [],
   "source": [
    "# comparison operator greater than or equal to\n",
    "a = 2\n",
    "b = 3\n",
    "\n",
    "c = \n",
    "\n",
    "print(\"a is greater or equal to b:\", c)"
   ]
  },
  {
   "cell_type": "code",
   "execution_count": null,
   "id": "e91921b8",
   "metadata": {},
   "outputs": [],
   "source": [
    "# conditional statements compare values based on a condition to produce a Boolean\n",
    "\n",
    "# if-else statement\n",
    "# think of if statements like a locked room, \n",
    "#    if true you can enter and your program will run the predefined task\n",
    "#    if false you program will skip the task and run a different block of code if the saem condition is false\n",
    "\n",
    "# enter your age \n",
    "age = \n",
    "\n",
    "if (age >= 18):\n",
    "    print(\"You are an adult!\")\n",
    "else:\n",
    "    print(\"You are not an adult!\")"
   ]
  },
  {
   "cell_type": "raw",
   "id": "150c7103",
   "metadata": {},
   "source": [
    "For loop repeats a task a set number of times. Unlike humans, computers start count at 0. "
   ]
  },
  {
   "cell_type": "code",
   "execution_count": null,
   "id": "42545888",
   "metadata": {},
   "outputs": [],
   "source": [
    "# for loops : repeats a task a set number of times\n",
    "\n",
    "for i in range(13): \n",
    "    print(i)"
   ]
  },
  {
   "cell_type": "raw",
   "id": "dc40486b",
   "metadata": {},
   "source": [
    "While loop runs if a consition is met."
   ]
  },
  {
   "cell_type": "code",
   "execution_count": null,
   "id": "c60120e1",
   "metadata": {},
   "outputs": [],
   "source": [
    "# while loops : only runs if a condition is met\n",
    "i = 0\n",
    "while i < 13:\n",
    "    print(i)\n",
    "    i += 1"
   ]
  },
  {
   "cell_type": "raw",
   "id": "fba4e00b",
   "metadata": {},
   "source": [
    "Libraries provide tools suited for many task like data bases, automation, web scraping, text processing, image processing, machine learning and data analytics."
   ]
  },
  {
   "cell_type": "code",
   "execution_count": null,
   "id": "1b3c47ae",
   "metadata": {},
   "outputs": [],
   "source": [
    "# Python's scientific computing libraries for data science: \n",
    "\n",
    "# numpy is used for numerical computation like arrays\n",
    "import numpy as np\n",
    "\n",
    "# pandas is used to analyze data\n",
    "import pandas as pd\n",
    "\n",
    "# statistics is used for\n",
    "import statistics as stat\n",
    "\n",
    "# scipy is used for scientific computation\n",
    "import scipy\n",
    "\n",
    "# matplotlib is used for visualization like simple graph plotting\n",
    "import matplotlib.pyplot as plt\n"
   ]
  },
  {
   "cell_type": "code",
   "execution_count": null,
   "id": "75c8875c",
   "metadata": {},
   "outputs": [],
   "source": [
    "# print the mean of the data set\n",
    "data = [1, 2, 3, 4, 5]\n",
    "\n",
    "mean"
   ]
  },
  {
   "cell_type": "code",
   "execution_count": null,
   "id": "f1ffb10e",
   "metadata": {},
   "outputs": [],
   "source": [
    "# print the median of the data set\n",
    "\n",
    "median"
   ]
  },
  {
   "cell_type": "code",
   "execution_count": null,
   "id": "25aa69c5",
   "metadata": {},
   "outputs": [],
   "source": [
    "# print the standard deviation of the data set\n",
    "\n",
    "stdev"
   ]
  },
  {
   "cell_type": "code",
   "execution_count": null,
   "id": "964ad6fe",
   "metadata": {},
   "outputs": [],
   "source": [
    "# list is an ordered sequence\n",
    "\n",
    "# create a list called cat made of integer\n",
    "\n",
    "# create a list called dog made of stings\n",
    "\n",
    "# print both lists\n"
   ]
  },
  {
   "cell_type": "code",
   "execution_count": null,
   "id": "d1e405c3",
   "metadata": {},
   "outputs": [],
   "source": [
    "# index : position of an element in a list\n",
    "data = [1, 2, 3, 4, 5]\n",
    "\n",
    "# print the second element of the list\n"
   ]
  },
  {
   "cell_type": "code",
   "execution_count": null,
   "id": "1eef35a5",
   "metadata": {},
   "outputs": [],
   "source": [
    "# index retriment can be used for strings \n",
    "data = \"I love Data!\"\n",
    "\n",
    "# print the fourth element of the list\n",
    "\n",
    "# print the second word of the list\n"
   ]
  },
  {
   "cell_type": "code",
   "execution_count": null,
   "id": "f3e33a36",
   "metadata": {},
   "outputs": [],
   "source": [
    "# function takes an input then produce an output or change\n",
    "\n",
    "# greet Miguel\n",
    "def greet(name):\n",
    "    print(\"Hello, \" + name + \"!\")\n",
    "\n",
    "greet(\"Miguel!\")\n"
   ]
  },
  {
   "cell_type": "code",
   "execution_count": null,
   "id": "0730ef50",
   "metadata": {},
   "outputs": [],
   "source": [
    "# one sample t-test\n",
    "\n",
    "# import libraries \n",
    "from scipy import stats\n",
    "import numpy as np\n",
    "\n",
    "# Generate a sample of random data\n",
    "# (loc = location parameter = mean, scale parameter = stdev, size = number of observations)\n",
    "data = np.random.normal(loc=XXX, scale=XXX, size=XXX)\n",
    "\n",
    "# Conduct a one-sample t-test\n",
    "t_statistic, p_value = stats.ttest_1samp(data, XX)\n",
    "\n",
    "print(\"t-statistic:\", t_statistic)\n",
    "print(\"p-value:\", p_value)"
   ]
  },
  {
   "cell_type": "code",
   "execution_count": null,
   "id": "bbd1492a",
   "metadata": {},
   "outputs": [],
   "source": [
    "# two sample t-test\n",
    "\n",
    "# import libraries\n",
    "from scipy import stats\n",
    "import numpy as np\n",
    "\n",
    "# Generate two samples of random data\n",
    "data1 = np.random.normal(loc=50, scale=10, size=100)\n",
    "data2 = np.random.normal(loc=50, scale=10, size=100)\n",
    "\n",
    "# Conduct a two-sample independent t-test\n",
    "t_statistic, p_value = stats.ttest_ind(data1, data2)\n",
    "\n",
    "# print the two-somple independent t-test\n",
    "print(\"t-statistics:\", t_statistic)\n",
    "print(\"p-value:\", p_value)"
   ]
  },
  {
   "cell_type": "code",
   "execution_count": null,
   "id": "956e1ef8",
   "metadata": {},
   "outputs": [],
   "source": [
    "# paired t-test\n",
    "\n",
    "# import libraries\n",
    "from scipy import stats\n",
    "import numpy as np\n",
    "\n",
    "# Generate two samples of random data\n",
    "data1 = np.random.normal(loc = 50, scale = 10, size = 100)\n",
    "data2 = np.random.normal(loc = 50, scale = 10, size = 100)\n",
    "\n",
    "# Conduct a paired t-test\n",
    "t_statistic, p_value = stats.ttest_rel(data1, data2)\n",
    "\n",
    "# print the paired t-test\n",
    "print(\"t-statistics:\", t_statistic)\n",
    "print(\"p-value:\", p_value)"
   ]
  },
  {
   "cell_type": "code",
   "execution_count": null,
   "id": "bb2cf831",
   "metadata": {},
   "outputs": [],
   "source": [
    "# linear regression\n",
    "\n",
    "# import libraries\n",
    "import numpy as np\n",
    "import statsmodels.api as sm\n",
    "import statsmodels.formula.api as smf\n",
    "\n",
    "# Generate some random data\n",
    "np.random.seed(0)\n",
    "student_engagement = np.linspace(0, 10, 20)\n",
    "gpa = 3 * student_engagement + np.random.normal(size = 20)\n",
    "\n",
    "# Add a constant term to the independent variable\n",
    "student_engagement = sm.add_constant(student_engagement)\n",
    "\n",
    "\n",
    "# Fit a linear regression model\n",
    "model = sm.OLS(gpa, student_engagement).fit()\n",
    "\n",
    "# Print the summary of the model\n",
    "print(model.summary())"
   ]
  },
  {
   "cell_type": "raw",
   "id": "d66156a8",
   "metadata": {},
   "source": [
    "Important data to gather from the regression results: \n",
    "1. R-Square\n",
    "2. Adj R-Square\n",
    "3. Coefficient"
   ]
  },
  {
   "cell_type": "code",
   "execution_count": null,
   "id": "7317c34f",
   "metadata": {},
   "outputs": [],
   "source": [
    "# import libraries\n",
    "import numpy as np\n",
    "import statsmodels.api as sm\n",
    "import statsmodels.formula.api as smf\n",
    "\n",
    "# Generate some random data\n",
    "np.random.seed(0)\n",
    "x = np.linspace(0, 10, 20)\n",
    "y = 3 * x + np.random.normal(size = 20)\n",
    "\n",
    "# Add a constant term to the independent variable\n",
    "x = sm.add_constant(x)\n",
    "\n",
    "# Fit a linear regression model\n",
    "model = sm.OLS(y, x).fit()\n",
    "\n",
    "# Print the summary of the model\n",
    "print(model.summary())"
   ]
  },
  {
   "cell_type": "code",
   "execution_count": null,
   "id": "1df98e64",
   "metadata": {},
   "outputs": [],
   "source": [
    "# data visualization : scatter plot\n",
    "\n",
    "# import libraries\n",
    "import matplotlib.pyplot as plt\n",
    "import numpy as np\n",
    "\n",
    "# create a scatter plot\n",
    "x = np.linspace(0, 10, 20)\n",
    "y = x**2 + 2*x + 1 + np.random.normal(0, 5, 20)\n",
    "plt.show()"
   ]
  },
  {
   "cell_type": "code",
   "execution_count": null,
   "id": "92584744",
   "metadata": {},
   "outputs": [],
   "source": [
    "# data visualization : line graph\n",
    "\n",
    "# import libraries\n",
    "import matplotlib.pyplot as plt\n",
    "\n",
    "x = [1, 2, 3, 4, 5]\n",
    "y = [2, 4, 6, 8, 10]\n",
    "# create a line graph\n",
    "\n",
    "plt.plot(x, y)\n",
    "plt.show()"
   ]
  },
  {
   "cell_type": "code",
   "execution_count": null,
   "id": "2f626e28",
   "metadata": {},
   "outputs": [],
   "source": [
    "# data visualization : bar graph\n",
    "\n",
    "# import library\n",
    "import matplotlib.pyplot as plt\n",
    "\n",
    "# create a bar graph\n",
    "x = [\"a\", \"b\", \"c\", \"d\"]\n",
    "y = [3, 7, 5, 2]\n",
    "plt.bar(x, y)\n",
    "plt.show()"
   ]
  },
  {
   "cell_type": "code",
   "execution_count": null,
   "id": "ec198dd7",
   "metadata": {},
   "outputs": [],
   "source": [
    "# data visualization : histogram\n",
    "\n",
    "# import libraries \n",
    "import matplotlib.pyplot as plt\n",
    "import numpy as np\n",
    "\n",
    "# create a histogram\n",
    "data = np.random.normal(100, 20, 1000)\n",
    "plt.hist(data, bins=50, color='red', alpha = 0.5)\n",
    "plt.show()"
   ]
  },
  {
   "cell_type": "markdown",
   "id": "cc00b835",
   "metadata": {},
   "source": [
    "this is note"
   ]
  },
  {
   "cell_type": "code",
   "execution_count": null,
   "id": "37039933",
   "metadata": {},
   "outputs": [],
   "source": []
  }
 ],
 "metadata": {
  "kernelspec": {
   "display_name": "Python 3 (ipykernel)",
   "language": "python",
   "name": "python3"
  },
  "language_info": {
   "codemirror_mode": {
    "name": "ipython",
    "version": 3
   },
   "file_extension": ".py",
   "mimetype": "text/x-python",
   "name": "python",
   "nbconvert_exporter": "python",
   "pygments_lexer": "ipython3",
   "version": "3.9.13"
  }
 },
 "nbformat": 4,
 "nbformat_minor": 5
}

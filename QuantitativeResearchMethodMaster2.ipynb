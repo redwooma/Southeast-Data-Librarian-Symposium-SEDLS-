{
 "cells": [
  {
   "cell_type": "markdown",
   "id": "8b0adbd5",
   "metadata": {},
   "source": [
    "# Quantitative Method in `Python`\n",
    "## Malik Redwood"
   ]
  },
  {
   "cell_type": "markdown",
   "id": "0e1715f1",
   "metadata": {},
   "source": [
    "Create variables and assigning values to a variables"
   ]
  },
  {
   "cell_type": "code",
   "execution_count": null,
   "id": "924ddd1b",
   "metadata": {},
   "outputs": [],
   "source": [
    "# variables can store strings, integers, float, and boolean values\n",
    "\n",
    "country = 'Cuba'\n",
    "age = 79\n",
    "grade = 3.33\n",
    "\n",
    "# comparison between two values\n",
    "bool = 5 < 6\n",
    "\n",
    "print(country)\n",
    "print(age)\n",
    "print(grade)\n",
    "print(bool)"
   ]
  },
  {
   "cell_type": "code",
   "execution_count": 2,
   "id": "d367059b",
   "metadata": {},
   "outputs": [
    {
     "name": "stdout",
     "output_type": "stream",
     "text": [
      "13\n",
      "61\n",
      "78\n",
      "6.5\n",
      "6\n",
      "35\n"
     ]
    }
   ],
   "source": [
    "# common mathematical operators\n",
    "add = 6 + 7\n",
    "subtract = 79 - 18\n",
    "multiple = 13*6\n",
    "# division results in a float\n",
    "divide = 13/2\n",
    "# division results in a integer\n",
    "Divide = 13//2\n",
    "\n",
    "# python follows PEMDAS mathematical expressions\n",
    "PEMDAS = ((2*3)**2)-4+3\n",
    "\n",
    "print(add)\n",
    "print(subtract)\n",
    "print(multiple)\n",
    "print(divide)\n",
    "print(Divide)\n",
    "print(PEMDAS)"
   ]
  },
  {
   "cell_type": "code",
   "execution_count": 19,
   "id": "49dfbade",
   "metadata": {},
   "outputs": [
    {
     "name": "stdout",
     "output_type": "stream",
     "text": [
      "a is equal than b:  False\n"
     ]
    }
   ],
   "source": [
    "# comparison operator equivalent\n",
    "a = 2\n",
    "b = 3\n",
    "\n",
    "c = (a == b)\n",
    "print(\"a is equal than b: \", c)"
   ]
  },
  {
   "cell_type": "code",
   "execution_count": 20,
   "id": "e9bbb49b",
   "metadata": {},
   "outputs": [
    {
     "name": "stdout",
     "output_type": "stream",
     "text": [
      "a is not equal to b: True\n"
     ]
    }
   ],
   "source": [
    "# comparison operator not equivalent \n",
    "a = 2\n",
    "b = 3\n",
    "c = (a != b)\n",
    "print(\"a is not equal to b:\", c)"
   ]
  },
  {
   "cell_type": "code",
   "execution_count": 5,
   "id": "2e104507",
   "metadata": {},
   "outputs": [
    {
     "name": "stdout",
     "output_type": "stream",
     "text": [
      "a is greater than b: False\n"
     ]
    }
   ],
   "source": [
    "# comparison operator greater than\n",
    "a = 2\n",
    "b = 3\n",
    "c = (a > b)\n",
    "print(\"a is greater than b:\", c)"
   ]
  },
  {
   "cell_type": "code",
   "execution_count": 6,
   "id": "ac7921e2",
   "metadata": {},
   "outputs": [
    {
     "name": "stdout",
     "output_type": "stream",
     "text": [
      "a is less than b: True\n"
     ]
    }
   ],
   "source": [
    "# comparison operator less than\n",
    "a = 2\n",
    "b = 3\n",
    "c = (a < b)\n",
    "print(\"a is less than b:\", c)"
   ]
  },
  {
   "cell_type": "code",
   "execution_count": 7,
   "id": "59ae79c0",
   "metadata": {},
   "outputs": [
    {
     "name": "stdout",
     "output_type": "stream",
     "text": [
      "a is greater than or equal to b: False\n"
     ]
    }
   ],
   "source": [
    "# comparison operator greater than or equal to\n",
    "a = 2\n",
    "b = 3\n",
    "c = (a >= b)\n",
    "print(\"a is greater than or equal to b:\", c)"
   ]
  },
  {
   "cell_type": "code",
   "execution_count": 24,
   "id": "e91921b8",
   "metadata": {},
   "outputs": [
    {
     "name": "stdout",
     "output_type": "stream",
     "text": [
      "you are not an adult\n"
     ]
    }
   ],
   "source": [
    "# conditional statements compare values based on a condition to produce a Boolean\n",
    "\n",
    "# if-else statement\n",
    "# think of if statements like a locked room, \n",
    "#    if true you can enter and your program will run the predefined task\n",
    "#    if false you program will skip the task and run a different block of code if the saem condition is false\n",
    "\n",
    "# age as 17, age at 18, and age at 19\n",
    "age = 12\n",
    "\n",
    "if (age >= 18):\n",
    "    print(\"you are an adult\")\n",
    "else:\n",
    "    print(\"you are not an adult\")"
   ]
  },
  {
   "cell_type": "code",
   "execution_count": 9,
   "id": "42545888",
   "metadata": {},
   "outputs": [
    {
     "name": "stdout",
     "output_type": "stream",
     "text": [
      "0\n",
      "1\n",
      "2\n",
      "3\n",
      "4\n",
      "5\n",
      "6\n",
      "7\n",
      "8\n",
      "9\n",
      "10\n",
      "11\n",
      "12\n"
     ]
    }
   ],
   "source": [
    "# for loops : repeats a task a set number of times\n",
    "\n",
    "for i in range(13):\n",
    "    print(i)"
   ]
  },
  {
   "cell_type": "raw",
   "id": "150c7103",
   "metadata": {},
   "source": [
    "For loop repeats a task a set number of times. Unlike humans, computers start count at 0. "
   ]
  },
  {
   "cell_type": "code",
   "execution_count": 10,
   "id": "c60120e1",
   "metadata": {},
   "outputs": [
    {
     "name": "stdout",
     "output_type": "stream",
     "text": [
      "0\n",
      "1\n",
      "2\n",
      "3\n",
      "4\n",
      "5\n",
      "6\n",
      "7\n",
      "8\n",
      "9\n",
      "10\n",
      "11\n",
      "12\n"
     ]
    }
   ],
   "source": [
    "# while loops : only runs if a condition is met\n",
    "\n",
    "i = 0\n",
    "while i < 13:\n",
    "    print(i)\n",
    "    i += 1"
   ]
  },
  {
   "cell_type": "raw",
   "id": "dc40486b",
   "metadata": {},
   "source": [
    "While loop runs if a consition is met."
   ]
  },
  {
   "cell_type": "raw",
   "id": "fba4e00b",
   "metadata": {},
   "source": [
    "Libraries provide tools suited for many task like data bases, automation, web scraping, text processing, image processing, machine learning and data analytics."
   ]
  },
  {
   "cell_type": "code",
   "execution_count": 2,
   "id": "1b3c47ae",
   "metadata": {},
   "outputs": [],
   "source": [
    "# Python's scientific computing libraries for data science: \n",
    "\n",
    "# numpy is used for numerical computation like arrays\n",
    "import numpy as np\n",
    "\n",
    "# pandas is used to analyze data\n",
    "import pandas as pd\n",
    "\n",
    "# statistics is used for\n",
    "import statistics as stat\n",
    "\n",
    "# scipy is used for scientific computation\n",
    "import scipy\n",
    "\n",
    "# matplotlib is used for visualization like simple graph plotting\n",
    "import matplotlib.pyplot as plt"
   ]
  },
  {
   "cell_type": "code",
   "execution_count": 3,
   "id": "75c8875c",
   "metadata": {},
   "outputs": [
    {
     "name": "stdout",
     "output_type": "stream",
     "text": [
      "Mean: 3.0\n"
     ]
    }
   ],
   "source": [
    "data = [1, 2, 3, 4, 5]\n",
    "\n",
    "mean = np.mean(data)\n",
    "print('Mean:', mean)"
   ]
  },
  {
   "cell_type": "code",
   "execution_count": 4,
   "id": "f1ffb10e",
   "metadata": {},
   "outputs": [
    {
     "name": "stdout",
     "output_type": "stream",
     "text": [
      "Median: 3.0\n"
     ]
    }
   ],
   "source": [
    "median = np.median(data)\n",
    "print('Median:', median)"
   ]
  },
  {
   "cell_type": "code",
   "execution_count": 5,
   "id": "25aa69c5",
   "metadata": {},
   "outputs": [
    {
     "name": "stdout",
     "output_type": "stream",
     "text": [
      "Standard deviation: 1.4142135623730951\n"
     ]
    }
   ],
   "source": [
    "stdev = np.std(data)\n",
    "print(\"Standard deviation:\", stdev)"
   ]
  },
  {
   "cell_type": "code",
   "execution_count": 1,
   "id": "964ad6fe",
   "metadata": {},
   "outputs": [
    {
     "name": "stdout",
     "output_type": "stream",
     "text": [
      "4\n",
      "[4, 5, 6]\n",
      "[1, 2, 3, 4]\n",
      "[1, 2, 3, 4, 5, 6, 7, 8, 9]\n"
     ]
    }
   ],
   "source": [
    "# list is an ordered sequence\n",
    "\n",
    "# create a list called cat\n",
    "cat = [1, 2, 3, 4, 5, 6, 7, 8, 9]\n",
    "\n",
    "print(cat[3])\n",
    "print(cat[3:6])\n",
    "print(cat[:4])\n",
    "print(cat)"
   ]
  },
  {
   "cell_type": "code",
   "execution_count": 7,
   "id": "d1e405c3",
   "metadata": {},
   "outputs": [
    {
     "name": "stdout",
     "output_type": "stream",
     "text": [
      "Second element: 2\n"
     ]
    }
   ],
   "source": [
    "# index : position of an element in a list\n",
    "data = [1, 2, 3, 4, 5]\n",
    "\n",
    "print(\"Second element:\", data[1])"
   ]
  },
  {
   "cell_type": "code",
   "execution_count": 8,
   "id": "1eef35a5",
   "metadata": {},
   "outputs": [
    {
     "name": "stdout",
     "output_type": "stream",
     "text": [
      "Second character: o\n",
      "Second word: love\n"
     ]
    }
   ],
   "source": [
    "# index retriment can be used for strings \n",
    "data = \"I love Love Data!\"\n",
    "\n",
    "print(\"Second character:\", data[3])\n",
    "\n",
    "print(\"Second word:\", data[2:6])"
   ]
  },
  {
   "cell_type": "code",
   "execution_count": 9,
   "id": "f3e33a36",
   "metadata": {},
   "outputs": [
    {
     "name": "stdout",
     "output_type": "stream",
     "text": [
      "Hello, Miguel!\n"
     ]
    }
   ],
   "source": [
    "# function takes an input then produce an output or change\n",
    "\n",
    "def greet(name):\n",
    "    print(\"Hello, \" + name + \"!\")\n",
    "\n",
    "greet(\"Miguel\")"
   ]
  },
  {
   "cell_type": "code",
   "execution_count": 10,
   "id": "0730ef50",
   "metadata": {},
   "outputs": [
    {
     "name": "stdout",
     "output_type": "stream",
     "text": [
      "t-statistic: 0.4254962908997916\n",
      "p-value: 0.6713984536603106\n"
     ]
    }
   ],
   "source": [
    "# one sample t-test\n",
    "from scipy import stats\n",
    "import numpy as np\n",
    "\n",
    "# Generate a sample of random data\n",
    "# (loc = location parameter = mean, scale parameter = stdev, size = number of observations)\n",
    "data = np.random.normal(loc=50, scale=10, size=100)\n",
    "\n",
    "# Conduct a one-sample t-test\n",
    "t_statistic, p_value = stats.ttest_1samp(data, 50)\n",
    "print(\"t-statistic:\", t_statistic)\n",
    "print(\"p-value:\", p_value)"
   ]
  },
  {
   "cell_type": "code",
   "execution_count": 11,
   "id": "bbd1492a",
   "metadata": {},
   "outputs": [
    {
     "name": "stdout",
     "output_type": "stream",
     "text": [
      "t-statistic: -6.472548852968622\n",
      "p-value: 7.41694688279888e-10\n"
     ]
    }
   ],
   "source": [
    "# two sample t-test\n",
    "from scipy import stats\n",
    "import numpy as np\n",
    "\n",
    "# Generate two samples of random data\n",
    "data1 = np.random.normal(loc=50, scale=10, size=100)\n",
    "data2 = np.random.normal(loc=60, scale=10, size=100)\n",
    "\n",
    "# Conduct a two-sample independent t-test\n",
    "t_statistic, p_value = stats.ttest_ind(data1, data2)\n",
    "print(\"t-statistic:\", t_statistic)\n",
    "print(\"p-value:\", p_value)"
   ]
  },
  {
   "cell_type": "code",
   "execution_count": 2,
   "id": "7b8fa2bf",
   "metadata": {},
   "outputs": [
    {
     "name": "stdout",
     "output_type": "stream",
     "text": [
      "t-statistic: 0.45315446570439666\n",
      "p-value: 0.6514291607281346\n"
     ]
    }
   ],
   "source": [
    "# paired t-test\n",
    "\n",
    "# import libraries\n",
    "from scipy import stats\n",
    "import numpy as np\n",
    "\n",
    "# Generate two samples of random data\n",
    "data1 = np.random.normal(loc=50, scale=10, size=100)\n",
    "data2 = np.random.normal(loc=50, scale=10, size=100)\n",
    "\n",
    "# Conduct a paired t-test\n",
    "t_statistics, p_value = stats.ttest_rel(data1, data2)\n",
    "\n",
    "# print the paired t-test\n",
    "print(\"t-statistic:\", t_statistics)\n",
    "print(\"p-value:\", p_value)"
   ]
  },
  {
   "cell_type": "code",
   "execution_count": 13,
   "id": "bb2cf831",
   "metadata": {},
   "outputs": [
    {
     "name": "stdout",
     "output_type": "stream",
     "text": [
      "                            OLS Regression Results                            \n",
      "==============================================================================\n",
      "Dep. Variable:                      y   R-squared:                       0.992\n",
      "Model:                            OLS   Adj. R-squared:                  0.992\n",
      "Method:                 Least Squares   F-statistic:                     2288.\n",
      "Date:                Fri, 10 Feb 2023   Prob (F-statistic):           2.00e-20\n",
      "Time:                        16:14:15   Log-Likelihood:                -23.332\n",
      "No. Observations:                  20   AIC:                             50.66\n",
      "Df Residuals:                      18   BIC:                             52.66\n",
      "Df Model:                           1                                         \n",
      "Covariance Type:            nonrobust                                         \n",
      "==============================================================================\n",
      "                 coef    std err          t      P>|t|      [0.025      0.975]\n",
      "------------------------------------------------------------------------------\n",
      "const          1.1379      0.353      3.224      0.005       0.396       1.879\n",
      "x1             2.8863      0.060     47.831      0.000       2.760       3.013\n",
      "==============================================================================\n",
      "Omnibus:                        0.250   Durbin-Watson:                   2.123\n",
      "Prob(Omnibus):                  0.883   Jarque-Bera (JB):                0.142\n",
      "Skew:                          -0.173   Prob(JB):                        0.931\n",
      "Kurtosis:                       2.773   Cond. No.                         11.5\n",
      "==============================================================================\n",
      "\n",
      "Notes:\n",
      "[1] Standard Errors assume that the covariance matrix of the errors is correctly specified.\n"
     ]
    }
   ],
   "source": [
    "import numpy as np\n",
    "import statsmodels.api as sm\n",
    "import statsmodels.formula.api as smf\n",
    "\n",
    "# Generate some random data\n",
    "np.random.seed(0)\n",
    "student_engagement = np.linspace(0, 10, 20)\n",
    "gpa = 3 * student_engagement + np.random.normal(size=20)\n",
    "\n",
    "# Add a constant term to the independent variable\n",
    "student_engagement = sm.add_constant(student_engagement)\n",
    "\n",
    "# Fit a linear regression model\n",
    "model = sm.OLS(gpa, student_engagement).fit()\n",
    "\n",
    "# Print the summary of the model\n",
    "print(model.summary())"
   ]
  },
  {
   "cell_type": "raw",
   "id": "d66156a8",
   "metadata": {},
   "source": [
    "For every unit increase in student engagement score, student GPA increases by 2.8863.\n",
    "\n",
    "R-Square 99.2% of the variance in student GPA can be explained by student engagement. \n",
    "This is a fake data set, so it is 99.2%. However, in this example, student engagement influences the GPA results by 99.2%. In real life, there are many factors that influence GPA. If another variable was sleep and it had an R-square of 40%, then that variable contributed 40% to the data.\n",
    "\n",
    "Adj. R-Square is 99.2 because we have one variable, if we had two variable. "
   ]
  },
  {
   "cell_type": "code",
   "execution_count": 22,
   "id": "7317c34f",
   "metadata": {},
   "outputs": [
    {
     "name": "stdout",
     "output_type": "stream",
     "text": [
      "                            OLS Regression Results                            \n",
      "==============================================================================\n",
      "Dep. Variable:                      y   R-squared:                       0.992\n",
      "Model:                            OLS   Adj. R-squared:                  0.992\n",
      "Method:                 Least Squares   F-statistic:                     2288.\n",
      "Date:                Wed, 08 Feb 2023   Prob (F-statistic):           2.00e-20\n",
      "Time:                        15:44:32   Log-Likelihood:                -23.332\n",
      "No. Observations:                  20   AIC:                             50.66\n",
      "Df Residuals:                      18   BIC:                             52.66\n",
      "Df Model:                           1                                         \n",
      "Covariance Type:            nonrobust                                         \n",
      "==============================================================================\n",
      "                 coef    std err          t      P>|t|      [0.025      0.975]\n",
      "------------------------------------------------------------------------------\n",
      "const          1.1379      0.353      3.224      0.005       0.396       1.879\n",
      "x1             2.8863      0.060     47.831      0.000       2.760       3.013\n",
      "==============================================================================\n",
      "Omnibus:                        0.250   Durbin-Watson:                   2.123\n",
      "Prob(Omnibus):                  0.883   Jarque-Bera (JB):                0.142\n",
      "Skew:                          -0.173   Prob(JB):                        0.931\n",
      "Kurtosis:                       2.773   Cond. No.                         11.5\n",
      "==============================================================================\n",
      "\n",
      "Notes:\n",
      "[1] Standard Errors assume that the covariance matrix of the errors is correctly specified.\n"
     ]
    }
   ],
   "source": [
    "import numpy as np\n",
    "import statsmodels.api as sm\n",
    "import statsmodels.formula.api as smf\n",
    "\n",
    "# Generate some random data\n",
    "np.random.seed(0)\n",
    "x = np.linspace(0, 10, 20)\n",
    "y = 3 * x + np.random.normal(size=20)\n",
    "\n",
    "# Add a constant term to the independent variable\n",
    "x = sm.add_constant(x)\n",
    "\n",
    "# Fit a linear regression model\n",
    "model = sm.OLS(y, x).fit()\n",
    "\n",
    "# Print the summary of the model\n",
    "print(model.summary())"
   ]
  },
  {
   "cell_type": "code",
   "execution_count": 23,
   "id": "1df98e64",
   "metadata": {},
   "outputs": [
    {
     "data": {
      "image/png": "[encoded data removed]",
      "text/plain": [
       "<Figure size 432x288 with 1 Axes>"
      ]
     },
     "metadata": {
      "needs_background": "light"
     },
     "output_type": "display_data"
    }
   ],
   "source": [
    "# data visualization : scatter plot\n",
    "import matplotlib.pyplot as plt\n",
    "import numpy as np\n",
    "x = np.linspace(0, 10, 20)\n",
    "y = x**2 + 2*x + 1 + np.random.normal(0, 5, 20)\n",
    "plt.scatter(x, y)\n",
    "plt.show()"
   ]
  },
  {
   "cell_type": "code",
   "execution_count": 24,
   "id": "92584744",
   "metadata": {},
   "outputs": [
    {
     "data": {
      "image/png": "[encoded data removed]",
      "text/plain": [
       "<Figure size 432x288 with 1 Axes>"
      ]
     },
     "metadata": {
      "needs_background": "light"
     },
     "output_type": "display_data"
    }
   ],
   "source": [
    "# data visualization : line graph\n",
    "import matplotlib.pyplot as plt\n",
    "\n",
    "x = [1, 2, 3, 4, 5]\n",
    "y = [2, 4, 6, 8, 10]\n",
    "\n",
    "plt.plot(x, y)\n",
    "plt.show()"
   ]
  },
  {
   "cell_type": "raw",
   "id": "1964d36b",
   "metadata": {},
   "source": [
    "Remember to repeat concepts discussed in the workshop"
   ]
  },
  {
   "cell_type": "code",
   "execution_count": 25,
   "id": "2f626e28",
   "metadata": {},
   "outputs": [
    {
     "data": {
      "image/png": "[encoded data removed]",
      "text/plain": [
       "<Figure size 432x288 with 1 Axes>"
      ]
     },
     "metadata": {
      "needs_background": "light"
     },
     "output_type": "display_data"
    }
   ],
   "source": [
    "# data visualization : bar graph\n",
    "import matplotlib.pyplot as plt\n",
    "x = ['A', 'B', 'C', 'D']\n",
    "y = [3, 7, 5, 2]\n",
    "plt.bar(x, y)\n",
    "plt.show()"
   ]
  },
  {
   "cell_type": "code",
   "execution_count": 26,
   "id": "ec198dd7",
   "metadata": {},
   "outputs": [
    {
     "data": {
      "image/png": "[encoded data removed]",
      "text/plain": [
       "<Figure size 432x288 with 1 Axes>"
      ]
     },
     "metadata": {
      "needs_background": "light"
     },
     "output_type": "display_data"
    }
   ],
   "source": [
    "# data visualization : histogram\n",
    "import matplotlib.pyplot as plt\n",
    "import numpy as np\n",
    "data = np.random.normal(100, 20, 1000)\n",
    "plt.hist(data, bins=50, color='red', alpha=0.5)\n",
    "plt.show()"
   ]
  },
  {
   "cell_type": "code",
   "execution_count": null,
   "id": "6cc961fb",
   "metadata": {},
   "outputs": [],
   "source": []
  },
  {
   "cell_type": "code",
   "execution_count": null,
   "id": "37039933",
   "metadata": {},
   "outputs": [],
   "source": []
  }
 ],
 "metadata": {
  "kernelspec": {
   "display_name": "Python 3 (ipykernel)",
   "language": "python",
   "name": "python3"
  },
  "language_info": {
   "codemirror_mode": {
    "name": "ipython",
    "version": 3
   },
   "file_extension": ".py",
   "mimetype": "text/x-python",
   "name": "python",
   "nbconvert_exporter": "python",
   "pygments_lexer": "ipython3",
   "version": "3.9.13"
  }
 },
 "nbformat": 4,
 "nbformat_minor": 5
}

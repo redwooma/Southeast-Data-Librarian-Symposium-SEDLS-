{
 "cells": [
  {
   "cell_type": "code",
   "execution_count": 117,
   "id": "985652b7",
   "metadata": {},
   "outputs": [
    {
     "name": "stdout",
     "output_type": "stream",
     "text": [
      "Cuba\n",
      "79\n",
      "3.33\n",
      "True\n"
     ]
    }
   ],
   "source": [
    "# variables can store strings, integers, float, and boolean values\n",
    "\n",
    "country = 'Cuba'\n",
    "age = 79\n",
    "grade = 3.33\n",
    "\n",
    "# comparison between two values\n",
    "bool = 5 < 6\n",
    "\n",
    "print(country)\n",
    "print(age)\n",
    "print(grade)\n",
    "print(bool)"
   ]
  },
  {
   "cell_type": "code",
   "execution_count": 118,
   "id": "b0c8f5f8",
   "metadata": {},
   "outputs": [
    {
     "name": "stdout",
     "output_type": "stream",
     "text": [
      "13\n",
      "61\n",
      "78\n",
      "6.5\n",
      "6\n",
      "35\n"
     ]
    }
   ],
   "source": [
    "# common mathematical operators\n",
    "add = 6 + 7\n",
    "subtract = 79 - 18\n",
    "multiple = 13*6\n",
    "# division results in a float\n",
    "divide = 13/2\n",
    "# division results in a integer\n",
    "Divide = 13//2\n",
    "\n",
    "# python follows PEMDAS mathematical expressions\n",
    "PEMDAS = ((2*3)**2)-4+3\n",
    "\n",
    "print(add)\n",
    "print(subtract)\n",
    "print(multiple)\n",
    "print(divide)\n",
    "print(Divide)\n",
    "print(PEMDAS)"
   ]
  },
  {
   "cell_type": "code",
   "execution_count": 81,
   "id": "a1885d55",
   "metadata": {},
   "outputs": [
    {
     "name": "stdout",
     "output_type": "stream",
     "text": [
      "a is equal than b:  False\n"
     ]
    }
   ],
   "source": [
    "# comparison operator equivalent\n",
    "a = 2\n",
    "b = 3\n",
    "\n",
    "c = (a == b)\n",
    "print(\"a is equal than b: \", c)"
   ]
  },
  {
   "cell_type": "code",
   "execution_count": 82,
   "id": "a3c3b0c6",
   "metadata": {},
   "outputs": [
    {
     "name": "stdout",
     "output_type": "stream",
     "text": [
      "a is not equal to b: True\n"
     ]
    }
   ],
   "source": [
    "# comparison operator not equivalent \n",
    "a = 2\n",
    "b = 3\n",
    "c = (a != b)\n",
    "print(\"a is not equal to b:\", c)"
   ]
  },
  {
   "cell_type": "code",
   "execution_count": 83,
   "id": "74619e8d",
   "metadata": {},
   "outputs": [
    {
     "name": "stdout",
     "output_type": "stream",
     "text": [
      "a is greater than b: False\n"
     ]
    }
   ],
   "source": [
    "# comparison operator greater than\n",
    "a = 2\n",
    "b = 3\n",
    "c = (a > b)\n",
    "print(\"a is greater than b:\", c)"
   ]
  },
  {
   "cell_type": "code",
   "execution_count": 84,
   "id": "4ea12911",
   "metadata": {},
   "outputs": [
    {
     "name": "stdout",
     "output_type": "stream",
     "text": [
      "a is less than b: True\n"
     ]
    }
   ],
   "source": [
    "# comparison operator less than\n",
    "a = 2\n",
    "b = 3\n",
    "c = (a < b)\n",
    "print(\"a is less than b:\", c)"
   ]
  },
  {
   "cell_type": "code",
   "execution_count": 85,
   "id": "df8e9e6d",
   "metadata": {},
   "outputs": [
    {
     "name": "stdout",
     "output_type": "stream",
     "text": [
      "a is greater than or equal to b: False\n"
     ]
    }
   ],
   "source": [
    "# comparison operator greater than or equal to\n",
    "a = 2\n",
    "b = 3\n",
    "c = (a >= b)\n",
    "print(\"a is greater than or equal to b:\", c)"
   ]
  },
  {
   "cell_type": "code",
   "execution_count": 86,
   "id": "fea6d015",
   "metadata": {},
   "outputs": [
    {
     "name": "stdout",
     "output_type": "stream",
     "text": [
      "you are not an adult\n"
     ]
    }
   ],
   "source": [
    "# conditional statements compare values based on a condition to produce a Boolean\n",
    "\n",
    "# if-else statement\n",
    "# think of if statements like a locked room, \n",
    "#    if true you can enter and your program will run the predefined task\n",
    "#    if false you program will skip the task and run a different block of code if the saem condition is false\n",
    "\n",
    "# age as 17, age at 18, and age at 19\n",
    "age = 12\n",
    "\n",
    "if (age >= 18):\n",
    "    print(\"you are an adult\")\n",
    "else:\n",
    "    print(\"you are not an adult\")"
   ]
  },
  {
   "cell_type": "code",
   "execution_count": 87,
   "id": "b94164fe",
   "metadata": {},
   "outputs": [
    {
     "name": "stdout",
     "output_type": "stream",
     "text": [
      "0\n",
      "1\n",
      "2\n",
      "3\n",
      "4\n",
      "5\n",
      "6\n",
      "7\n",
      "8\n",
      "9\n",
      "10\n",
      "11\n",
      "12\n"
     ]
    }
   ],
   "source": [
    "# for loops : repeats a task a set number of times\n",
    "\n",
    "for i in range(13):\n",
    "    print(i)"
   ]
  },
  {
   "cell_type": "code",
   "execution_count": 88,
   "id": "f9d2dafa",
   "metadata": {},
   "outputs": [
    {
     "name": "stdout",
     "output_type": "stream",
     "text": [
      "0\n",
      "1\n",
      "2\n",
      "3\n",
      "4\n",
      "5\n",
      "6\n",
      "7\n",
      "8\n",
      "9\n",
      "10\n",
      "11\n",
      "12\n"
     ]
    }
   ],
   "source": [
    "# while loops : only runs if a condition is met\n",
    "\n",
    "i = 0\n",
    "while i < 13:\n",
    "    print(i)\n",
    "    i += 1"
   ]
  },
  {
   "cell_type": "code",
   "execution_count": null,
   "id": "111a7d87",
   "metadata": {},
   "outputs": [],
   "source": [
    "pip install numpy"
   ]
  },
  {
   "cell_type": "code",
   "execution_count": null,
   "id": "cb5de74f",
   "metadata": {},
   "outputs": [],
   "source": [
    "pip install pandas"
   ]
  },
  {
   "cell_type": "code",
   "execution_count": null,
   "id": "96feaa1e",
   "metadata": {},
   "outputs": [],
   "source": [
    "pip install scipy"
   ]
  },
  {
   "cell_type": "code",
   "execution_count": null,
   "id": "91838068",
   "metadata": {},
   "outputs": [],
   "source": [
    "pip install matplotlib"
   ]
  },
  {
   "cell_type": "code",
   "execution_count": 93,
   "id": "8c3148e4",
   "metadata": {},
   "outputs": [],
   "source": [
    "# Python's scientific computing libraries for data science: \n",
    "\n",
    "# numpy is used for numerical computation like arrays\n",
    "import numpy as np\n",
    "\n",
    "# pandas is used to analyze data\n",
    "import pandas as pd\n",
    "\n",
    "# statistics is used for\n",
    "import statistics as stat\n",
    "\n",
    "# scipy is used for scientific computation\n",
    "import scipy\n",
    "\n",
    "# matplotlib is used for visualization like simple graph plotting\n",
    "import matplotlib.pyplot as plt"
   ]
  },
  {
   "cell_type": "code",
   "execution_count": 94,
   "id": "a366f282",
   "metadata": {},
   "outputs": [],
   "source": [
    "excel_file = 'Sample Book Collection.xlsx'"
   ]
  },
  {
   "cell_type": "code",
   "execution_count": 95,
   "id": "42fe5a5e",
   "metadata": {},
   "outputs": [],
   "source": [
    "library = pd.read_excel(excel_file)"
   ]
  },
  {
   "cell_type": "code",
   "execution_count": 96,
   "id": "951df07d",
   "metadata": {},
   "outputs": [
    {
     "name": "stdout",
     "output_type": "stream",
     "text": [
      "    Customer First_Name   Last_Name    Phone Number  Item_Call_Number  \\\n",
      "0          1       Mike      Rogers  (730) 952-1998               NaN   \n",
      "1          2       Paul         Zim  (272) 679-4742               NaN   \n",
      "2          3        Tim        Berk  (602) 822-3093               NaN   \n",
      "3          4       Norm   Armstrong  (561) 807-3174               NaN   \n",
      "4          5         Qu       Cheng  (830) 939-5701               NaN   \n",
      "5          6       Utan    Manhouse  (893) 135-6959               NaN   \n",
      "6          7      Faris     Penguin  (917) 659-9284               NaN   \n",
      "7          8       Cyan        Blue  (609) 487-9370               NaN   \n",
      "8          9       Tyra       Banks  (262) 324-4776               NaN   \n",
      "9         10        Sim       Banks  (953) 146-9150               NaN   \n",
      "10        11     Alfred  Penniworth  (609) 190-6122               NaN   \n",
      "11        12      Peter      Parker  (506) 656-6672               NaN   \n",
      "12        13     Olivia     Rodrigo  (773) 880-1686               NaN   \n",
      "13        14      Uriel  Manchester  (165) 307-6539               NaN   \n",
      "14        15       Inca       Parks  (793) 511-6230               NaN   \n",
      "15        16     Robert    Bloopers  (340) 483-3921               NaN   \n",
      "16        17        Viz       Media  (601) 677-3771               NaN   \n",
      "17        18      Eddie       Brock  (641) 863-9499               NaN   \n",
      "18        19        Jim       Jones  (463) 274-7188               NaN   \n",
      "19        20        Tim      Turner  (240) 426-1299               NaN   \n",
      "20        21     Joseph    Gonzalez  (698) 370-8431               NaN   \n",
      "21        22     Andrew        Pica  (657) 592-3527               NaN   \n",
      "22        23       Clay        Gray  (257) 833-8564               NaN   \n",
      "23        24      Malik       Ambar  (460) 561-3527               NaN   \n",
      "24        25       Zack         Cod  (753) 760-3040               NaN   \n",
      "25        26     Andrea     Vasquez  (519) 829-7763               NaN   \n",
      "26        27  Elizabeth       Smith  (616) 884-5277               NaN   \n",
      "27        28      Sarah  Bloomfield  (331) 720-1479               NaN   \n",
      "28        29        Sam       Jones  (824) 770-4864               NaN   \n",
      "29        30     Sharon       Moore  (216) 434-4378               NaN   \n",
      "30        31    Cynthia       Barru  (687) 772-5143               NaN   \n",
      "31        32     Guther      Graham  (146) 902-6200               NaN   \n",
      "32        33     Robert       Barth  (445) 301-3722               NaN   \n",
      "33        34       Cody      Fregla  (566) 690-3307               NaN   \n",
      "34        35       Zack       Bruce  (813) 514-7843               NaN   \n",
      "35        36       Earl       Bruce  (836) 925-3596               NaN   \n",
      "36        37    Earnest      Gedeck  (800) 610-6996               NaN   \n",
      "37        38       Reed        Luna  (712) 520-1172               NaN   \n",
      "38        39   Benjamin    Margarta  (791) 194-7657               NaN   \n",
      "39        40      Yuval      Coelho  (327) 104-2758               NaN   \n",
      "40        41       John      Housel  (110) 521-2652               NaN   \n",
      "41        42     Carlos      Keller  (661) 922-9075               NaN   \n",
      "42        43     Jordan        Dale  (749) 254-1824               NaN   \n",
      "43        44        Tom    Carnegie  (108) 255-5616               NaN   \n",
      "44        45     Morgan      Geogia  (488) 881-7327               NaN   \n",
      "45        46      Paola    Virginia  (885) 598-7970               NaN   \n",
      "46        47        Rob      Graham  (109) 123-8743               NaN   \n",
      "47        48    Brandon        Ruiz  (325) 649-8120               NaN   \n",
      "48        49     Robert       Geron  (331) 893-5047               NaN   \n",
      "49        50     George      Zafron  (882) 768-1243               NaN   \n",
      "\n",
      "                                      Title Media_Type  Publication_Date  \\\n",
      "0                   The miracle of Lourdes.       Book              1931   \n",
      "1                Fatima:pilgrimage to peace       Book              1802   \n",
      "2                           Rainforest lore       Book              1998   \n",
      "3                                 Mary Jane       Book              1867   \n",
      "4                 Encyclopedia on the Heart       Book              1893   \n",
      "5                        How to win friends      eBook              2001   \n",
      "6                                statistics       Book              1960   \n",
      "7                        linear algebra 101       Book              1883   \n",
      "8               computer science principles       Book              1813   \n",
      "9                                   biology       Book              1884   \n",
      "10  everything to know about the human body       Book              1908   \n",
      "11                           goop goop goop      eBook              1826   \n",
      "12                               tiger king      eBook              2000   \n",
      "13                                homo deus      eBook              2000   \n",
      "14                            shadow street      eBook              1844   \n",
      "15                    investing for winners      eBook              1845   \n",
      "16                   success, win, champion       Book              2009   \n",
      "17                               sun wukong       Book              1999   \n",
      "18             from rock to gold: investing       Book              1852   \n",
      "19                               iron golem       Book              1894   \n",
      "20                  history of horse racing       Book              1879   \n",
      "21                             sex positive       Book              1938   \n",
      "22                     how to speak spanish       Book              1856   \n",
      "23                      how to speak arabic       Book              1860   \n",
      "24                     how to speak english       Book              1864   \n",
      "25                         christmas carols       Book              2008   \n",
      "26                         halloween treats       Book              1956   \n",
      "27                       heath and wellness      eBook              1870   \n",
      "28                               fight club      eBook              1957   \n",
      "29                 python for data analysis       Book              1805   \n",
      "30                                zemi cemi       Book              1949   \n",
      "31                            caribbean sun      eBook              1972   \n",
      "32                                 pacifica       Book              1899   \n",
      "33                            giant dolphin       Book              1943   \n",
      "34                              konch shell       Book              1870   \n",
      "35                             iron golem 2       Book              1876   \n",
      "36                                     dawn       Book              1926   \n",
      "37                 data science methodology       Book              1817   \n",
      "38               machine learning practices       Book              1937   \n",
      "39                           how snails run       Book              1978   \n",
      "40                             purple glass       Book              1850   \n",
      "41                                   harlem       Book              1950   \n",
      "42                          fruit and juice       Book              1999   \n",
      "43                      southeast northwest       Book              1935   \n",
      "44                   azure stone and tigers      eBook              1991   \n",
      "45                      history of religion       Book              1889   \n",
      "46                                christmas      eBook              1997   \n",
      "47                                 big cats       Book              2008   \n",
      "48                           data analytics       Book              1954   \n",
      "49                big data and data science      eBook              1932   \n",
      "\n",
      "    Itemcode    Item_Status  Price  \n",
      "0     848199  Not Available     15  \n",
      "1     848234      Available      8  \n",
      "2     848088  Not Available     13  \n",
      "3     848032  Not Available      7  \n",
      "4     848396      Available      9  \n",
      "5     848880  Not Available     32  \n",
      "6     848368      Available     13  \n",
      "7     848388      Available      8  \n",
      "8     848786      Available     10  \n",
      "9     848428      Available      6  \n",
      "10    848358      Available     20  \n",
      "11    848007      Available     10  \n",
      "12    848466      Available     22  \n",
      "13    848464  Not Available     24  \n",
      "14    848659      Available      7  \n",
      "15    848663  Not Available      8  \n",
      "16    848198      Available     23  \n",
      "17    848974  Not Available     14  \n",
      "18    848025      Available      9  \n",
      "19    848802      Available      6  \n",
      "20    848318  Not Available     10  \n",
      "21    848430      Available     14  \n",
      "22    848684      Available     10  \n",
      "23    848068      Available      6  \n",
      "24    848811  Not Available      9  \n",
      "25    848382  Not Available     34  \n",
      "26    848599  Not Available     15  \n",
      "27    848189      Available      6  \n",
      "28    848499  Not Available     13  \n",
      "29    848067      Available      5  \n",
      "30    848373  Not Available     12  \n",
      "31    848660      Available     20  \n",
      "32    848458  Not Available      7  \n",
      "33    848127  Not Available     21  \n",
      "34    848348  Not Available     10  \n",
      "35    848355  Not Available      5  \n",
      "36    848465  Not Available     13  \n",
      "37    848340      Available      9  \n",
      "38    848842  Not Available     11  \n",
      "39    848032  Not Available     19  \n",
      "40    848065  Not Available      6  \n",
      "41    848816  Not Available     19  \n",
      "42    848684      Available     16  \n",
      "43    848128      Available     11  \n",
      "44    848187      Available     19  \n",
      "45    848401      Available      8  \n",
      "46    848529  Not Available     21  \n",
      "47    848895  Not Available     27  \n",
      "48    848912  Not Available     16  \n",
      "49    848812  Not Available     15  \n"
     ]
    }
   ],
   "source": [
    "print(library)"
   ]
  },
  {
   "cell_type": "code",
   "execution_count": 97,
   "id": "3db81bea",
   "metadata": {},
   "outputs": [],
   "source": [
    "# List the dataframe of a column\n",
    "df = pd.DataFrame(library)"
   ]
  },
  {
   "cell_type": "code",
   "execution_count": 101,
   "id": "839d8253",
   "metadata": {},
   "outputs": [
    {
     "name": "stdout",
     "output_type": "stream",
     "text": [
      "Mean: 13.42\n"
     ]
    }
   ],
   "source": [
    "mean = np.mean(library[\"Price\"])\n",
    "print('Mean:', mean)"
   ]
  },
  {
   "cell_type": "code",
   "execution_count": 102,
   "id": "02cfa05d",
   "metadata": {},
   "outputs": [
    {
     "name": "stdout",
     "output_type": "stream",
     "text": [
      "Median: 11.5\n"
     ]
    }
   ],
   "source": [
    "median = np.median(library[\"Price\"])\n",
    "print('Median:', median)"
   ]
  },
  {
   "cell_type": "code",
   "execution_count": 103,
   "id": "1bae16f8",
   "metadata": {},
   "outputs": [
    {
     "name": "stdout",
     "output_type": "stream",
     "text": [
      "Standard deviation: 6.86466313812994\n"
     ]
    }
   ],
   "source": [
    "stdev = np.std(library[\"Price\"])\n",
    "print(\"Standard deviation:\", stdev)"
   ]
  },
  {
   "cell_type": "code",
   "execution_count": 104,
   "id": "1c3a03b7",
   "metadata": {},
   "outputs": [
    {
     "name": "stdout",
     "output_type": "stream",
     "text": [
      "848032\n",
      "[848032, 848396, 848880]\n",
      "[848199, 848234, 848088, 848032]\n"
     ]
    }
   ],
   "source": [
    "# list is an ordered sequence\n",
    "\n",
    "# create a list called book_title\n",
    "Itemcode = library[\"Itemcode\"].tolist()\n",
    "\n",
    "print(Itemcode[3])\n",
    "print(Itemcode[3:6])\n",
    "print(Itemcode[:4])"
   ]
  },
  {
   "cell_type": "code",
   "execution_count": 105,
   "id": "3094d433",
   "metadata": {},
   "outputs": [
    {
     "name": "stdout",
     "output_type": "stream",
     "text": [
      "Book title: Encyclopedia on the Heart\n",
      "Second character: y\n",
      "Second word: cycl\n"
     ]
    }
   ],
   "source": [
    "# index retriment can be used for strings \n",
    "sample_book_title = library[\"Title\"]\n",
    "title = sample_book_title[4]\n",
    "\n",
    "print (\"Book title:\", title)\n",
    "\n",
    "print(\"Second character:\", title[3])\n",
    "\n",
    "print(\"Second word:\", title[2:6])"
   ]
  },
  {
   "cell_type": "code",
   "execution_count": 106,
   "id": "2efab190",
   "metadata": {},
   "outputs": [
    {
     "name": "stdout",
     "output_type": "stream",
     "text": [
      "Hello, Miguel!\n"
     ]
    }
   ],
   "source": [
    "# function takes an input then produce an output or change\n",
    "\n",
    "def greet(name):\n",
    "    print(\"Hello, \" + name + \"!\")\n",
    "\n",
    "greet(\"Miguel\")"
   ]
  },
  {
   "cell_type": "code",
   "execution_count": 107,
   "id": "43dbaa0e",
   "metadata": {},
   "outputs": [
    {
     "name": "stdout",
     "output_type": "stream",
     "text": [
      "t-statistic: 0.9283600078074208\n",
      "p-value: 0.3554788072134727\n"
     ]
    }
   ],
   "source": [
    "# one sample t-test\n",
    "from scipy import stats\n",
    "import numpy as np\n",
    "\n",
    "# Generate a sample of random data\n",
    "# (loc = location parameter = mean, scale parameter = stdev, size = number of observations)\n",
    "data = np.random.normal(loc=50, scale=10, size=100)\n",
    "\n",
    "# Conduct a one-sample t-test\n",
    "t_statistic, p_value = stats.ttest_1samp(data, 50)\n",
    "print(\"t-statistic:\", t_statistic)\n",
    "print(\"p-value:\", p_value)"
   ]
  },
  {
   "cell_type": "code",
   "execution_count": 108,
   "id": "ece9ad28",
   "metadata": {},
   "outputs": [
    {
     "name": "stdout",
     "output_type": "stream",
     "text": [
      "t-statistic: -5.815342790772133\n",
      "p-value: 2.3955255623045077e-08\n"
     ]
    }
   ],
   "source": [
    "# two sample t-test\n",
    "from scipy import stats\n",
    "import numpy as np\n",
    "\n",
    "# Generate two samples of random data\n",
    "data1 = np.random.normal(loc=50, scale=10, size=100)\n",
    "data2 = np.random.normal(loc=60, scale=10, size=100)\n",
    "\n",
    "# Conduct a two-sample independent t-test\n",
    "t_statistic, p_value = stats.ttest_ind(data1, data2)\n",
    "print(\"t-statistic:\", t_statistic)\n",
    "print(\"p-value:\", p_value)"
   ]
  },
  {
   "cell_type": "code",
   "execution_count": 109,
   "id": "338139b3",
   "metadata": {},
   "outputs": [
    {
     "name": "stdout",
     "output_type": "stream",
     "text": [
      "t-statistic: 0.16184522954731304\n",
      "p-value: 0.8717575876467254\n"
     ]
    }
   ],
   "source": [
    "# paired t-test\n",
    "\n",
    "# import libraries\n",
    "from scipy import stats\n",
    "import numpy as np\n",
    "\n",
    "# Generate two samples of random data\n",
    "data1 = np.random.normal(loc=50, scale=10, size=100)\n",
    "data2 = np.random.normal(loc=50, scale=10, size=100)\n",
    "\n",
    "# Conduct a paired t-test\n",
    "t_statistics, p_value = stats.ttest_rel(data1, data2)\n",
    "\n",
    "# print the paired t-test\n",
    "print(\"t-statistic:\", t_statistics)\n",
    "print(\"p-value:\", p_value)"
   ]
  },
  {
   "cell_type": "code",
   "execution_count": 110,
   "id": "fbfbe9ae",
   "metadata": {},
   "outputs": [
    {
     "name": "stdout",
     "output_type": "stream",
     "text": [
      "                            OLS Regression Results                            \n",
      "==============================================================================\n",
      "Dep. Variable:                      y   R-squared:                       0.992\n",
      "Model:                            OLS   Adj. R-squared:                  0.992\n",
      "Method:                 Least Squares   F-statistic:                     2288.\n",
      "Date:                Wed, 01 Nov 2023   Prob (F-statistic):           2.00e-20\n",
      "Time:                        04:13:24   Log-Likelihood:                -23.332\n",
      "No. Observations:                  20   AIC:                             50.66\n",
      "Df Residuals:                      18   BIC:                             52.66\n",
      "Df Model:                           1                                         \n",
      "Covariance Type:            nonrobust                                         \n",
      "==============================================================================\n",
      "                 coef    std err          t      P>|t|      [0.025      0.975]\n",
      "------------------------------------------------------------------------------\n",
      "const          1.1379      0.353      3.224      0.005       0.396       1.879\n",
      "x1             2.8863      0.060     47.831      0.000       2.760       3.013\n",
      "==============================================================================\n",
      "Omnibus:                        0.250   Durbin-Watson:                   2.123\n",
      "Prob(Omnibus):                  0.883   Jarque-Bera (JB):                0.142\n",
      "Skew:                          -0.173   Prob(JB):                        0.931\n",
      "Kurtosis:                       2.773   Cond. No.                         11.5\n",
      "==============================================================================\n",
      "\n",
      "Notes:\n",
      "[1] Standard Errors assume that the covariance matrix of the errors is correctly specified.\n"
     ]
    }
   ],
   "source": [
    "import numpy as np\n",
    "import statsmodels.api as sm\n",
    "import statsmodels.formula.api as smf\n",
    "\n",
    "# Generate some random data\n",
    "np.random.seed(0)\n",
    "student_engagement = np.linspace(0, 10, 20)\n",
    "gpa = 3 * student_engagement + np.random.normal(size=20)\n",
    "\n",
    "# Add a constant term to the independent variable\n",
    "student_engagement = sm.add_constant(student_engagement)\n",
    "\n",
    "# Fit a linear regression model\n",
    "model = sm.OLS(gpa, student_engagement).fit()\n",
    "\n",
    "# Print the summary of the model\n",
    "print(model.summary())"
   ]
  },
  {
   "cell_type": "code",
   "execution_count": 111,
   "id": "30ef3b56",
   "metadata": {},
   "outputs": [
    {
     "name": "stdout",
     "output_type": "stream",
     "text": [
      "                            OLS Regression Results                            \n",
      "==============================================================================\n",
      "Dep. Variable:                      y   R-squared:                       0.992\n",
      "Model:                            OLS   Adj. R-squared:                  0.992\n",
      "Method:                 Least Squares   F-statistic:                     2288.\n",
      "Date:                Wed, 01 Nov 2023   Prob (F-statistic):           2.00e-20\n",
      "Time:                        04:13:27   Log-Likelihood:                -23.332\n",
      "No. Observations:                  20   AIC:                             50.66\n",
      "Df Residuals:                      18   BIC:                             52.66\n",
      "Df Model:                           1                                         \n",
      "Covariance Type:            nonrobust                                         \n",
      "==============================================================================\n",
      "                 coef    std err          t      P>|t|      [0.025      0.975]\n",
      "------------------------------------------------------------------------------\n",
      "const          1.1379      0.353      3.224      0.005       0.396       1.879\n",
      "x1             2.8863      0.060     47.831      0.000       2.760       3.013\n",
      "==============================================================================\n",
      "Omnibus:                        0.250   Durbin-Watson:                   2.123\n",
      "Prob(Omnibus):                  0.883   Jarque-Bera (JB):                0.142\n",
      "Skew:                          -0.173   Prob(JB):                        0.931\n",
      "Kurtosis:                       2.773   Cond. No.                         11.5\n",
      "==============================================================================\n",
      "\n",
      "Notes:\n",
      "[1] Standard Errors assume that the covariance matrix of the errors is correctly specified.\n"
     ]
    }
   ],
   "source": [
    "import numpy as np\n",
    "import statsmodels.api as sm\n",
    "import statsmodels.formula.api as smf\n",
    "\n",
    "# Generate some random data\n",
    "np.random.seed(0)\n",
    "x = np.linspace(0, 10, 20)\n",
    "y = 3 * x + np.random.normal(size=20)\n",
    "\n",
    "# Add a constant term to the independent variable\n",
    "x = sm.add_constant(x)\n",
    "\n",
    "# Fit a linear regression model\n",
    "model = sm.OLS(y, x).fit()\n",
    "\n",
    "# Print the summary of the model\n",
    "print(model.summary())"
   ]
  },
  {
   "cell_type": "code",
   "execution_count": 112,
   "id": "7ab68cca",
   "metadata": {},
   "outputs": [
    {
     "data": {
      "image/png": "[encoded data removed]",
      "text/plain": [
       "<Figure size 640x480 with 1 Axes>"
      ]
     },
     "metadata": {},
     "output_type": "display_data"
    }
   ],
   "source": [
    "# data visualization : scatter plot\n",
    "import matplotlib.pyplot as plt\n",
    "import numpy as np\n",
    "x = np.linspace(0, 10, 20)\n",
    "y = x**2 + 2*x + 1 + np.random.normal(0, 5, 20)\n",
    "plt.scatter(x, y)\n",
    "plt.show()"
   ]
  },
  {
   "cell_type": "code",
   "execution_count": 113,
   "id": "91fa5eb2",
   "metadata": {},
   "outputs": [
    {
     "data": {
      "image/png": "[encoded data removed]",
      "text/plain": [
       "<Figure size 640x480 with 1 Axes>"
      ]
     },
     "metadata": {},
     "output_type": "display_data"
    }
   ],
   "source": [
    "# data visualization : scatter plot\n",
    "import matplotlib.pyplot as plt\n",
    "import numpy as np\n",
    "\n",
    "x = library[\"Publication_Date\"]\n",
    "y = library[\"Price\"]\n",
    "\n",
    "plt.scatter(x, y)\n",
    "plt.show()"
   ]
  },
  {
   "cell_type": "code",
   "execution_count": 114,
   "id": "3d3d46e6",
   "metadata": {},
   "outputs": [
    {
     "data": {
      "image/png": "[encoded data removed]",
      "text/plain": [
       "<Figure size 640x480 with 1 Axes>"
      ]
     },
     "metadata": {},
     "output_type": "display_data"
    }
   ],
   "source": [
    "# data visualization : line graph\n",
    "import matplotlib.pyplot as plt\n",
    "\n",
    "x = [1, 2, 3, 4, 5]\n",
    "y = [2, 4, 6, 8, 10]\n",
    "\n",
    "plt.plot(x, y)\n",
    "plt.show()"
   ]
  },
  {
   "cell_type": "code",
   "execution_count": 115,
   "id": "e1401524",
   "metadata": {},
   "outputs": [
    {
     "data": {
      "image/png": "[encoded data removed]",
      "text/plain": [
       "<Figure size 640x480 with 1 Axes>"
      ]
     },
     "metadata": {},
     "output_type": "display_data"
    }
   ],
   "source": [
    "# data visualization : bar graph\n",
    "import matplotlib.pyplot as plt\n",
    "x = ['A', 'B', 'C', 'D']\n",
    "y = [3, 7, 5, 2]\n",
    "\n",
    "plt.bar(x, y)\n",
    "plt.show()"
   ]
  },
  {
   "cell_type": "code",
   "execution_count": 116,
   "id": "7cbdbb1a",
   "metadata": {},
   "outputs": [
    {
     "data": {
      "image/png": "[encoded data removed]",
      "text/plain": [
       "<Figure size 640x480 with 1 Axes>"
      ]
     },
     "metadata": {},
     "output_type": "display_data"
    }
   ],
   "source": [
    "# data visualization : histogram\n",
    "import matplotlib.pyplot as plt\n",
    "import numpy as np\n",
    "data = np.random.normal(100, 20, 1000)\n",
    "plt.hist(data, bins=50, color='red', alpha=0.5)\n",
    "plt.show()"
   ]
  },
  {
   "cell_type": "code",
   "execution_count": null,
   "id": "6fb761e9",
   "metadata": {},
   "outputs": [],
   "source": []
  },
  {
   "cell_type": "code",
   "execution_count": null,
   "id": "b1e72e12",
   "metadata": {},
   "outputs": [],
   "source": []
  }
 ],
 "metadata": {
  "kernelspec": {
   "display_name": "Python 3 (ipykernel)",
   "language": "python",
   "name": "python3"
  },
  "language_info": {
   "codemirror_mode": {
    "name": "ipython",
    "version": 3
   },
   "file_extension": ".py",
   "mimetype": "text/x-python",
   "name": "python",
   "nbconvert_exporter": "python",
   "pygments_lexer": "ipython3",
   "version": "3.9.13"
  }
 },
 "nbformat": 4,
 "nbformat_minor": 5
}
